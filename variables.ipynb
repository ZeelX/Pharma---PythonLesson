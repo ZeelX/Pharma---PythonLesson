{
 "cells": [
  {
   "cell_type": "markdown",
   "source": [
    "Variable"
   ],
   "metadata": {
    "collapsed": false
   },
   "id": "a842449dd5728794"
  },
  {
   "cell_type": "markdown",
   "source": [
    "Dans Python, la convention demande le nom des variables en snake_case\n",
    "\n",
    "Plusieurs fonctions existes pour influer / utiliser ces variables\n",
    "\n",
    "\n",
    "Par exemple, la fonction type()  renvoie le type de la variable\n",
    "la fonction .lower() permet de changer une string en mettant tous en minuscule à l'intérieur\n",
    "\n",
    "Il en existe beaucoup dans le vanilla Python, et encore plus dans les librairis développer autour ( numPy, pandas, ... )"
   ],
   "metadata": {
    "collapsed": false
   },
   "id": "df0432f82f57f705"
  },
  {
   "cell_type": "code",
   "outputs": [
    {
     "name": "stdout",
     "output_type": "stream",
     "text": [
      "<class 'int'>\n"
     ]
    }
   ],
   "source": [
    "a = 8\n",
    "\n",
    "numerical_variable = 12\n",
    "\n",
    "print(type(numerical_variable))\n",
    "\n",
    "a = 'a'\n",
    "b = ''\n",
    "c = 'c'\n",
    "one = 1\n",
    "two = 2 \n",
    "three = 3\n"
   ],
   "metadata": {
    "collapsed": false,
    "ExecuteTime": {
     "end_time": "2024-01-19T12:44:25.555938500Z",
     "start_time": "2024-01-19T12:44:25.091151300Z"
    }
   },
   "id": "29a98ea6757d8693",
   "execution_count": 27
  },
  {
   "cell_type": "markdown",
   "source": [
    "Commentaire"
   ],
   "metadata": {
    "collapsed": false
   },
   "id": "d39b10a84821d3d0"
  },
  {
   "cell_type": "markdown",
   "source": [
    "Les commentaires servent à rendre le code plus lisible, expliquer / documenter du code \n",
    "Ces lignes ne servent que pour les developpeur et ne sont jamais interpréter/lu par la machine.\n",
    "\n",
    "en dessous, a prend la valeur 14, et devrai etre réassigner a 12 si la ligne n'était pas commenté.\n"
   ],
   "metadata": {
    "collapsed": false
   },
   "id": "dffb75d49a0ed3b7"
  },
  {
   "cell_type": "code",
   "outputs": [
    {
     "name": "stdout",
     "output_type": "stream",
     "text": [
      "14\n"
     ]
    }
   ],
   "source": [
    "# commentarie is never read by the compute\n",
    "\n",
    "a = 14\n",
    "\n",
    "# a = 12\n",
    "\n",
    "print(a)\n",
    "\n",
    "\n",
    "\"\"\"\n",
    "commentaire sur plusieurs lignes, utiliser pour les classes par exemple\n",
    "\"\"\"\n",
    "\n",
    "\n",
    "#region balise trie de code\n",
    "a = 12\n",
    "\n",
    "# a = 4\n",
    "#endregion"
   ],
   "metadata": {
    "collapsed": false,
    "ExecuteTime": {
     "end_time": "2024-01-19T12:44:25.661593Z",
     "start_time": "2024-01-19T12:44:25.533154900Z"
    }
   },
   "id": "32e87f2a438b1e71",
   "execution_count": 28
  },
  {
   "cell_type": "markdown",
   "source": [
    "Fonction\n",
    "\n",
    "\n",
    "Ici, nous voyons la documentation d'une fonction, permettant la relecture du code plus facilement par d'autre développeur( ou le futur nous ) "
   ],
   "metadata": {
    "collapsed": false
   },
   "id": "19bf00ceda742932"
  },
  {
   "cell_type": "code",
   "outputs": [
    {
     "data": {
      "text/plain": "'\\n    Cette fonction ne sert à rien\\n    input:\\n        None\\n    output:\\n        None \\n    '"
     },
     "execution_count": 29,
     "metadata": {},
     "output_type": "execute_result"
    }
   ],
   "source": [
    "def my_function():\n",
    " \n",
    "    \"\"\"\n",
    "    Cette fonction ne sert à rien\n",
    "    input:\n",
    "        None\n",
    "    output:\n",
    "        None \n",
    "    \"\"\"\n",
    "    pass\n",
    "\n",
    "\n",
    "my_function.__doc__"
   ],
   "metadata": {
    "collapsed": false,
    "ExecuteTime": {
     "end_time": "2024-01-19T12:44:25.855196600Z",
     "start_time": "2024-01-19T12:44:25.643936Z"
    }
   },
   "id": "eefe7a4dca8573b5",
   "execution_count": 29
  },
  {
   "cell_type": "markdown",
   "source": [
    "Mini-exo 1\n",
    "\n",
    "rentrer une chaine de caractère dans la variable month, \n",
    "et le print en majuscule,\n",
    "en minuscule,\n",
    "et en capitaliser"
   ],
   "metadata": {
    "collapsed": false
   },
   "id": "f8de41a7e4041c29"
  },
  {
   "cell_type": "code",
   "outputs": [
    {
     "name": "stdout",
     "output_type": "stream",
     "text": [
      "JANUARY\n",
      "january\n",
      "January\n"
     ]
    }
   ],
   "source": [
    "month = \"JaNuArY\"\n",
    "\n",
    "print(month.upper())\n",
    "print(month.lower())\n",
    "print(month.capitalize())"
   ],
   "metadata": {
    "collapsed": false,
    "ExecuteTime": {
     "end_time": "2024-01-19T12:44:25.924206100Z",
     "start_time": "2024-01-19T12:44:25.742602800Z"
    }
   },
   "id": "ea6525c8fceed5e8",
   "execution_count": 30
  },
  {
   "cell_type": "markdown",
   "source": [
    "Les types de données\n",
    "\n",
    "\n",
    "\n",
    "en python comme dans les autres languages, une variables peux avoir différent type.\n",
    "Notons qu'en python, une variable changeras de type en fonction de sa valeur, et n'est jamais bloqué.\n",
    "\n",
    "les différend types primitifs seront \n",
    "\n",
    "int (integer) => 1 \n",
    "float  => 1.02\n",
    "\n",
    "bool ( boolean ) => True ou False \n",
    "\n",
    "séquences =\n",
    "    list (tableau) => a = ['first_value','second_value']\n",
    "    tuple => b = ('first_value','second_value')\n",
    "    set => c = {'first_value','second_value'}\n",
    "    dictionary => d = {'one' : 1, 'two' : 2, 'three': 3}\n",
    "    \n",
    "    string => 'je suis une string'\n",
    "    (la string est aussi une séquence, un tableau de charactere)"
   ],
   "metadata": {
    "collapsed": false
   },
   "id": "aeb7b8fd3fdb4615"
  },
  {
   "cell_type": "code",
   "outputs": [],
   "source": [
    "int = 1\n",
    "float = 1.25641632 \n",
    "round(float, 2)\n",
    "bool = False\n",
    "\n",
    "list = ['first_value','second_value']\n",
    "tuple = ('first_value','second_value')\n",
    "set = {'first_value','second_value'}\n",
    "dict = {'one' : 'first_value', 'two' : 2, 'three': 3}"
   ],
   "metadata": {
    "collapsed": false,
    "ExecuteTime": {
     "end_time": "2024-01-19T12:44:26.058641800Z",
     "start_time": "2024-01-19T12:44:25.935198300Z"
    }
   },
   "id": "f2b60651d0fd50c5",
   "execution_count": 31
  },
  {
   "cell_type": "markdown",
   "source": [
    "Mini-exo 2\n",
    "\n",
    "Créer 3 type de variable\n",
    "\n",
    "\n",
    "la date du jour en string,\n",
    "les minutes en int (le nombres depuis minuit à 11h30)\n",
    "les minute restante dans la journée en ration %\n"
   ],
   "metadata": {
    "collapsed": false
   },
   "id": "178d4bdced3b8e27"
  },
  {
   "cell_type": "code",
   "outputs": [
    {
     "name": "stdout",
     "output_type": "stream",
     "text": [
      "0\n",
      "True\n",
      "Aujourd'hui, nous sommes le 01/18/2024\n",
      "690\n",
      "52.08 %\n"
     ]
    }
   ],
   "source": [
    "# current date in string\n",
    "date = \"01/18/2024\"\n",
    "\n",
    "# minutes elapsed from midnight to 11h30 am\n",
    "elapsed_minutes = (11 * 60)+30\n",
    "\n",
    "# remaining time in % from 11h30 to midnight\n",
    "# 1440 = number of minutes in a day\n",
    "# rounded for better reading\n",
    "remaining_minutes = 100 - round(elapsed_minutes * 100 / 1440 , 2)\n",
    "    \n",
    "print(elapsed_minutes % 2)\n",
    "is_even = elapsed_minutes % 2 == 0\n",
    "print(is_even)\n",
    "print(f\"Aujourd'hui, nous sommes le {date}\")\n",
    "print(elapsed_minutes)\n",
    "print(f\"{remaining_minutes} %\")"
   ],
   "metadata": {
    "collapsed": false,
    "ExecuteTime": {
     "end_time": "2024-01-19T12:44:26.155482300Z",
     "start_time": "2024-01-19T12:44:26.037772300Z"
    }
   },
   "id": "86f6af0c6636d",
   "execution_count": 32
  },
  {
   "cell_type": "markdown",
   "source": [
    "Opération arythmétiques\n",
    "\n",
    "\n",
    "\n",
    "Le code, c'est des maths.\n",
    "L'important c'est de savoir comments utiliser les opérateurs.\n",
    "Ca reste simple:\n",
    "\n",
    "-> addition (+)\n",
    "-> soustraction (-)\n",
    "-> multiplication (*)\n",
    "-> divisions (/)\n",
    "\n",
    "et ça deviens plus pointu\n",
    "\n",
    "-> exponentiel (**)\n",
    "-> modulo (%)\n",
    "-> euclidienne (//)\n"
   ],
   "metadata": {
    "collapsed": false
   },
   "id": "96c7207930a9b4d7"
  },
  {
   "cell_type": "code",
   "outputs": [
    {
     "data": {
      "text/plain": "2"
     },
     "execution_count": 33,
     "metadata": {},
     "output_type": "execute_result"
    }
   ],
   "source": [
    "1+1"
   ],
   "metadata": {
    "collapsed": false,
    "ExecuteTime": {
     "end_time": "2024-01-19T12:44:26.223394Z",
     "start_time": "2024-01-19T12:44:26.094652500Z"
    }
   },
   "id": "e1a190902d285644",
   "execution_count": 33
  },
  {
   "cell_type": "code",
   "outputs": [
    {
     "data": {
      "text/plain": "7"
     },
     "execution_count": 34,
     "metadata": {},
     "output_type": "execute_result"
    }
   ],
   "source": [
    "10-3"
   ],
   "metadata": {
    "collapsed": false,
    "ExecuteTime": {
     "end_time": "2024-01-19T12:44:26.370629900Z",
     "start_time": "2024-01-19T12:44:26.207494900Z"
    }
   },
   "id": "3cb59d9efd3dd431",
   "execution_count": 34
  },
  {
   "cell_type": "code",
   "outputs": [
    {
     "data": {
      "text/plain": "24"
     },
     "execution_count": 35,
     "metadata": {},
     "output_type": "execute_result"
    }
   ],
   "source": [
    "12*2"
   ],
   "metadata": {
    "collapsed": false,
    "ExecuteTime": {
     "end_time": "2024-01-19T12:44:26.435635300Z",
     "start_time": "2024-01-19T12:44:26.336389600Z"
    }
   },
   "id": "8013f319e21e30b9",
   "execution_count": 35
  },
  {
   "cell_type": "code",
   "outputs": [
    {
     "data": {
      "text/plain": "5.0"
     },
     "execution_count": 36,
     "metadata": {},
     "output_type": "execute_result"
    }
   ],
   "source": [
    "10/2"
   ],
   "metadata": {
    "collapsed": false,
    "ExecuteTime": {
     "end_time": "2024-01-19T12:44:26.570797200Z",
     "start_time": "2024-01-19T12:44:26.438639200Z"
    }
   },
   "id": "d38de5b04d43c5a3",
   "execution_count": 36
  },
  {
   "cell_type": "code",
   "outputs": [
    {
     "data": {
      "text/plain": "27"
     },
     "execution_count": 37,
     "metadata": {},
     "output_type": "execute_result"
    }
   ],
   "source": [
    "3**3"
   ],
   "metadata": {
    "collapsed": false,
    "ExecuteTime": {
     "end_time": "2024-01-19T12:44:26.609808500Z",
     "start_time": "2024-01-19T12:44:26.540969600Z"
    }
   },
   "id": "33c1a314c5407f4e",
   "execution_count": 37
  },
  {
   "cell_type": "code",
   "outputs": [
    {
     "data": {
      "text/plain": "0"
     },
     "execution_count": 38,
     "metadata": {},
     "output_type": "execute_result"
    }
   ],
   "source": [
    "45%5"
   ],
   "metadata": {
    "collapsed": false,
    "ExecuteTime": {
     "end_time": "2024-01-19T12:44:26.747240400Z",
     "start_time": "2024-01-19T12:44:26.612812800Z"
    }
   },
   "id": "2ba529db34efc1d4",
   "execution_count": 38
  },
  {
   "cell_type": "code",
   "outputs": [
    {
     "data": {
      "text/plain": "9"
     },
     "execution_count": 39,
     "metadata": {},
     "output_type": "execute_result"
    }
   ],
   "source": [
    "45//5"
   ],
   "metadata": {
    "collapsed": false,
    "ExecuteTime": {
     "end_time": "2024-01-19T12:44:26.829248Z",
     "start_time": "2024-01-19T12:44:26.717413300Z"
    }
   },
   "id": "1b1e0e82e2734730",
   "execution_count": 39
  },
  {
   "cell_type": "markdown",
   "source": [
    "Mini-exo 3\n",
    "\n",
    "feuille de calcul de logarhytme.... l'enfer\n",
    "\n",
    "\n"
   ],
   "metadata": {
    "collapsed": false
   },
   "id": "1a3254561e1a4b63"
  },
  {
   "cell_type": "code",
   "outputs": [
    {
     "name": "stdout",
     "output_type": "stream",
     "text": [
      "7.0\n",
      "21.0\n"
     ]
    }
   ],
   "source": [
    "t = [ 0,2,4,6,8,10,12,14]\n",
    "s = []\n",
    "average = sum(t) / len(t)\n",
    "print(average)\n",
    "\n",
    "for element in t:\n",
    "    s.append(element **2)\n",
    "s_average = (sum(s) / len(s)) - average **2 \n",
    "\n",
    "print(s_average)"
   ],
   "metadata": {
    "collapsed": false,
    "ExecuteTime": {
     "end_time": "2024-01-19T12:44:26.947420300Z",
     "start_time": "2024-01-19T12:44:26.836249200Z"
    }
   },
   "id": "b66ff84c6f664bb3",
   "execution_count": 40
  },
  {
   "cell_type": "markdown",
   "source": [
    "Version Johlan"
   ],
   "metadata": {
    "collapsed": false
   },
   "id": "97308371043c0144"
  },
  {
   "cell_type": "code",
   "outputs": [
    {
     "name": "stdout",
     "output_type": "stream",
     "text": [
      "moyenne de t : 7.0\n",
      "moyenne de s t : 21.0 \n"
     ]
    }
   ],
   "source": [
    "t = [0, 2, 4, 6, 8, 10, 12, 14]\n",
    "moyen_t = 0\n",
    "moyen_s_t = 0\n",
    "for elm in t :\n",
    "    moyen_t += elm\n",
    "    moyen_s_t += elm**2\n",
    "\n",
    "moyen_t /= len(t)\n",
    "moyen_s_t = moyen_s_t/len(t) - moyen_t**2\n",
    "\n",
    "print(f\"moyenne de t : {moyen_t}\")\n",
    "print(f\"moyenne de s t : { moyen_s_t} \\n\")"
   ],
   "metadata": {
    "collapsed": false,
    "ExecuteTime": {
     "end_time": "2024-01-19T12:44:27.040421900Z",
     "start_time": "2024-01-19T12:44:26.915041700Z"
    }
   },
   "id": "154c53d01e032c6e",
   "execution_count": 41
  },
  {
   "cell_type": "markdown",
   "source": [
    "Séquences\n",
    "\n",
    "my_numbers = [*range(100)]\n",
    "my_numbers = []\n",
    "\n",
    "for number in range(100):\n",
    "    number = number**2\n",
    "    my_numbers.append(number)\n",
    "[number**2 for number in range(100)]"
   ],
   "metadata": {
    "collapsed": false
   },
   "id": "5b7be23cfd089298"
  },
  {
   "cell_type": "code",
   "outputs": [],
   "source": [
    "# x = surface de la maison\n",
    "# a = 7.5\n",
    "# b = 1.5\n",
    "# y = prix de la maison\n",
    "\n",
    "#y = a * x + b\n",
    "# your mission, calculate y for all house from 20m² to 50m²"
   ],
   "metadata": {
    "collapsed": false,
    "ExecuteTime": {
     "end_time": "2024-01-19T12:44:27.130033700Z",
     "start_time": "2024-01-19T12:44:27.045423700Z"
    }
   },
   "id": "f7631ea0e2d31ff8",
   "execution_count": 42
  },
  {
   "cell_type": "code",
   "outputs": [
    {
     "name": "stdout",
     "output_type": "stream",
     "text": [
      "[151.5, 159.0, 166.5, 174.0, 181.5, 189.0, 196.5, 204.0, 211.5, 219.0, 226.5, 234.0, 241.5, 249.0, 256.5, 264.0, 271.5, 279.0, 286.5, 294.0, 301.5, 309.0, 316.5, 324.0, 331.5, 339.0, 346.5, 354.0, 361.5, 369.0, 376.5]\n"
     ]
    }
   ],
   "source": [
    "x = 20\n",
    "a = 7.5\n",
    "b = 1.5\n",
    "\n",
    "print([(a * (x + number) + b) for number in range(31)])\n"
   ],
   "metadata": {
    "collapsed": false,
    "ExecuteTime": {
     "end_time": "2024-01-19T12:44:27.265792Z",
     "start_time": "2024-01-19T12:44:27.126554400Z"
    }
   },
   "id": "78b34ef84dc75367",
   "execution_count": 43
  },
  {
   "cell_type": "markdown",
   "source": [
    "# x = surface de la maison\n",
    "# a = 507.576\n",
    "# b = 18.5\n",
    "# c = -0.2\n",
    "# y = prix de la maison\n",
    "\n",
    "# equation = ax2 + bx + c\n",
    "# your mission, calculate y for all house from 200m² to 500m²"
   ],
   "metadata": {
    "collapsed": false
   },
   "id": "42dcd3d5e0f97af1"
  },
  {
   "cell_type": "code",
   "outputs": [
    {
     "name": "stdout",
     "output_type": "stream",
     "text": [
      "[20306739.8, 22387986.400000002, 24570748.200000003, 26855025.200000003, 29240817.400000002, 31728124.8, 34316947.4, 37007285.199999996, 39799138.199999996, 42692506.4, 45687389.8, 48783788.4, 51981702.2, 55281131.2, 58682075.4, 62184534.8, 65788509.4, 69493999.2, 73301004.2, 77209524.4, 81219559.8, 85331110.4, 89544176.2, 93858757.2, 98274853.4, 102792464.8, 107411591.4, 112132233.2, 116954390.2, 121878062.4, 126903249.8]\n"
     ]
    }
   ],
   "source": [
    "a = 507.576\n",
    "b = 18.5\n",
    "c = -0.2\n",
    "\n",
    "\n",
    "print([(a * x**2 + b * x + c) for x in range(200,501,10)])\n"
   ],
   "metadata": {
    "collapsed": false,
    "ExecuteTime": {
     "end_time": "2024-01-19T12:44:27.368757Z",
     "start_time": "2024-01-19T12:44:27.243574100Z"
    }
   },
   "id": "e07f4130e119f95b",
   "execution_count": 44
  },
  {
   "cell_type": "markdown",
   "source": [
    "Les sets\n",
    "\n",
    "\n",
    "les sets sont un type de tableau n'acceuillant aucun doublon\n",
    "normalement, il retire directement les doublons"
   ],
   "metadata": {
    "collapsed": false
   },
   "id": "59c93f21159181c3"
  },
  {
   "cell_type": "code",
   "outputs": [
    {
     "name": "stdout",
     "output_type": "stream",
     "text": [
      "['All', 'Amaze', 'Arena', 'Atlanta', 'Bike', 'Alpha', 'BuchungsKreis', 'Trek', 'Tona', 'Meine', 'Avante', 'Bike', 'Carefree', 'G&M', 'Keep', 'iCare', 'CC', 'DigiPay', 'TechCycle', 'eBike', 'Cycle', 'High', 'Tires', 'MX', 'FitnessWorld', 'Homerun', 'Antonio', 'Khan', 'Palm', 'A', 'Hudson', 'Ebike', 'Wichita', 'Move', 'TechCycle', 'YourCycleShop', 'Unolab', 'E', 'The', 'Eiffel']\n"
     ]
    }
   ],
   "source": [
    "company_names = ['All For Bikes',\n",
    " 'Amaze Bikes Inc',\n",
    " 'Arena Sports Inc',\n",
    " 'Atlanta Corp Inc',\n",
    " 'Bike World Inc',\n",
    " 'Alpha AG',\n",
    " 'BuchungsKreis 1010',\n",
    " 'Trek Cycle AG',\n",
    " 'Tona Bikes AG',\n",
    " 'Meine Bicycle',\n",
    " 'Avante Grande Bikes',\n",
    " 'Bike On',\n",
    " 'Carefree Cycles',\n",
    " 'G&M Bicycle',\n",
    " 'Keep Cycling',\n",
    " 'iCare Australia',\n",
    " 'CC SportWorld',\n",
    " 'DigiPay',\n",
    " 'TechCycle Canberra',\n",
    " 'eBike 100',\n",
    " 'Cycle World',\n",
    " 'High Tech Sports Inc',\n",
    " 'Tires On Fire',\n",
    " 'MX Bike',\n",
    " 'FitnessWorld',\n",
    " 'Homerun Millwork Inc.',\n",
    " 'Antonio Bandolera',\n",
    " 'Khan Cycles',\n",
    " 'Palm Beach Bike World',\n",
    " 'A to Z Fitness',\n",
    " 'Hudson SportsTec',\n",
    " 'Ebike 36',\n",
    " 'Wichita Sport',\n",
    " 'Move by Bike',\n",
    " 'TechCycle',\n",
    " 'YourCycleShop',\n",
    " 'Unolab Manufacturing',\n",
    " 'E bike 201',\n",
    " 'The Cycle Factor',\n",
    " 'Eiffel Bikes']\n",
    "\n",
    "new_company_names = [i.split()[0] for i in company_names]\n",
    "    \n",
    "new_company_names_first = []\n",
    "for company_name in company_names:\n",
    "    company_name = company_name.split()\n",
    "    new_company_names_first.append(company_name[0])\n",
    "    \n",
    "new_company_names_last = []\n",
    "for company_name in company_names:\n",
    "    company_name = company_name.split()\n",
    "    new_company_names_last.append(company_name[-1])\n",
    "\n",
    "print(new_company_names)\n"
   ],
   "metadata": {
    "collapsed": false,
    "ExecuteTime": {
     "end_time": "2024-01-19T12:44:56.881727700Z",
     "start_time": "2024-01-19T12:44:56.796157400Z"
    }
   },
   "id": "24fdf93a19b654d4",
   "execution_count": 1
  },
  {
   "cell_type": "code",
   "outputs": [
    {
     "ename": "TypeError",
     "evalue": "'set' object is not callable",
     "output_type": "error",
     "traceback": [
      "\u001B[1;31m---------------------------------------------------------------------------\u001B[0m",
      "\u001B[1;31mTypeError\u001B[0m                                 Traceback (most recent call last)",
      "Cell \u001B[1;32mIn[46], line 2\u001B[0m\n\u001B[0;32m      1\u001B[0m A \u001B[38;5;241m=\u001B[39m [\u001B[38;5;124m'\u001B[39m\u001B[38;5;124mOeuf\u001B[39m\u001B[38;5;124m'\u001B[39m, \u001B[38;5;124m'\u001B[39m\u001B[38;5;124mLait\u001B[39m\u001B[38;5;124m'\u001B[39m, \u001B[38;5;124m'\u001B[39m\u001B[38;5;124mSucre\u001B[39m\u001B[38;5;124m'\u001B[39m]\n\u001B[1;32m----> 2\u001B[0m A \u001B[38;5;241m=\u001B[39m \u001B[38;5;28;43mset\u001B[39;49m\u001B[43m(\u001B[49m\u001B[43mA\u001B[49m\u001B[43m)\u001B[49m\n\u001B[0;32m      4\u001B[0m B \u001B[38;5;241m=\u001B[39m [\u001B[38;5;124m'\u001B[39m\u001B[38;5;124mSucre\u001B[39m\u001B[38;5;124m'\u001B[39m, \u001B[38;5;124m'\u001B[39m\u001B[38;5;124mFarine\u001B[39m\u001B[38;5;124m'\u001B[39m, \u001B[38;5;124m'\u001B[39m\u001B[38;5;124mHuile\u001B[39m\u001B[38;5;124m'\u001B[39m]\n\u001B[0;32m      5\u001B[0m B \u001B[38;5;241m=\u001B[39m \u001B[38;5;28mset\u001B[39m(B)\n",
      "\u001B[1;31mTypeError\u001B[0m: 'set' object is not callable"
     ]
    }
   ],
   "source": [
    "A = ['Oeuf', 'Lait', 'Sucre']\n",
    "A = set(A)\n",
    "\n",
    "B = ['Sucre', 'Farine', 'Huile']\n",
    "B = set(B)\n"
   ],
   "metadata": {
    "collapsed": false,
    "ExecuteTime": {
     "end_time": "2024-01-19T12:44:27.608807900Z",
     "start_time": "2024-01-19T12:44:27.461764700Z"
    }
   },
   "id": "8666a869995bf82b",
   "execution_count": 46
  },
  {
   "cell_type": "code",
   "outputs": [
    {
     "ename": "TypeError",
     "evalue": "unsupported operand type(s) for |: 'list' and 'set'",
     "output_type": "error",
     "traceback": [
      "\u001B[1;31m---------------------------------------------------------------------------\u001B[0m",
      "\u001B[1;31mTypeError\u001B[0m                                 Traceback (most recent call last)",
      "Cell \u001B[1;32mIn[47], line 1\u001B[0m\n\u001B[1;32m----> 1\u001B[0m outer \u001B[38;5;241m=\u001B[39m \u001B[43mA\u001B[49m\u001B[43m \u001B[49m\u001B[38;5;241;43m|\u001B[39;49m\u001B[43m \u001B[49m\u001B[43mB\u001B[49m\n\u001B[0;32m      2\u001B[0m outer\n",
      "\u001B[1;31mTypeError\u001B[0m: unsupported operand type(s) for |: 'list' and 'set'"
     ]
    }
   ],
   "source": [
    "outer = A | B\n",
    "outer"
   ],
   "metadata": {
    "collapsed": false,
    "ExecuteTime": {
     "start_time": "2024-01-19T12:44:27.573647Z"
    }
   },
   "id": "33aae1b4174be2a0",
   "execution_count": 47
  },
  {
   "cell_type": "code",
   "outputs": [
    {
     "ename": "TypeError",
     "evalue": "unsupported operand type(s) for &: 'list' and 'set'",
     "output_type": "error",
     "traceback": [
      "\u001B[1;31m---------------------------------------------------------------------------\u001B[0m",
      "\u001B[1;31mTypeError\u001B[0m                                 Traceback (most recent call last)",
      "Cell \u001B[1;32mIn[48], line 1\u001B[0m\n\u001B[1;32m----> 1\u001B[0m inner \u001B[38;5;241m=\u001B[39m \u001B[43mA\u001B[49m\u001B[43m \u001B[49m\u001B[38;5;241;43m&\u001B[39;49m\u001B[43m \u001B[49m\u001B[43mB\u001B[49m\n\u001B[0;32m      2\u001B[0m inner\n",
      "\u001B[1;31mTypeError\u001B[0m: unsupported operand type(s) for &: 'list' and 'set'"
     ]
    }
   ],
   "source": [
    "inner = A & B\n",
    "inner"
   ],
   "metadata": {
    "collapsed": false,
    "ExecuteTime": {
     "end_time": "2024-01-19T12:44:27.979739200Z",
     "start_time": "2024-01-19T12:44:27.666802600Z"
    }
   },
   "id": "363a0c2c599ee4b4",
   "execution_count": 48
  },
  {
   "cell_type": "code",
   "outputs": [
    {
     "ename": "TypeError",
     "evalue": "unsupported operand type(s) for -: 'list' and 'set'",
     "output_type": "error",
     "traceback": [
      "\u001B[1;31m---------------------------------------------------------------------------\u001B[0m",
      "\u001B[1;31mTypeError\u001B[0m                                 Traceback (most recent call last)",
      "Cell \u001B[1;32mIn[49], line 1\u001B[0m\n\u001B[1;32m----> 1\u001B[0m left \u001B[38;5;241m=\u001B[39m \u001B[43mA\u001B[49m\u001B[43m \u001B[49m\u001B[38;5;241;43m-\u001B[39;49m\u001B[43m \u001B[49m\u001B[43mB\u001B[49m\n\u001B[0;32m      2\u001B[0m left\n",
      "\u001B[1;31mTypeError\u001B[0m: unsupported operand type(s) for -: 'list' and 'set'"
     ]
    }
   ],
   "source": [
    "left = A - B\n",
    "left"
   ],
   "metadata": {
    "collapsed": false,
    "ExecuteTime": {
     "start_time": "2024-01-19T12:44:27.922542500Z"
    }
   },
   "id": "f1eee0e7da0e3ad",
   "execution_count": 49
  },
  {
   "cell_type": "code",
   "outputs": [
    {
     "ename": "TypeError",
     "evalue": "unsupported operand type(s) for -: 'list' and 'set'",
     "output_type": "error",
     "traceback": [
      "\u001B[1;31m---------------------------------------------------------------------------\u001B[0m",
      "\u001B[1;31mTypeError\u001B[0m                                 Traceback (most recent call last)",
      "Cell \u001B[1;32mIn[50], line 1\u001B[0m\n\u001B[1;32m----> 1\u001B[0m left_inner \u001B[38;5;241m=\u001B[39m (\u001B[43mA\u001B[49m\u001B[43m \u001B[49m\u001B[38;5;241;43m-\u001B[39;49m\u001B[43m \u001B[49m\u001B[43mB\u001B[49m) \u001B[38;5;241m|\u001B[39m (A \u001B[38;5;241m&\u001B[39m B)\n\u001B[0;32m      2\u001B[0m left_inner\n",
      "\u001B[1;31mTypeError\u001B[0m: unsupported operand type(s) for -: 'list' and 'set'"
     ]
    }
   ],
   "source": [
    "left_inner = (A - B) | (A & B)\n",
    "left_inner"
   ],
   "metadata": {
    "collapsed": false,
    "ExecuteTime": {
     "end_time": "2024-01-19T12:44:28.223258300Z",
     "start_time": "2024-01-19T12:44:28.057740500Z"
    }
   },
   "id": "121e3cf8b195ab89",
   "execution_count": 50
  },
  {
   "cell_type": "code",
   "outputs": [
    {
     "data": {
      "text/plain": "['Oeuf', 'Lait', 'Sucre']"
     },
     "execution_count": 51,
     "metadata": {},
     "output_type": "execute_result"
    }
   ],
   "source": [
    "left_inner = A or B\n",
    "left_inner"
   ],
   "metadata": {
    "collapsed": false,
    "ExecuteTime": {
     "end_time": "2024-01-19T12:44:28.258262700Z",
     "start_time": "2024-01-19T12:44:28.192102800Z"
    }
   },
   "id": "6ab2ae7464c2807a",
   "execution_count": 51
  },
  {
   "cell_type": "markdown",
   "source": [
    "Mini-exo 4\n",
    "\n"
   ],
   "metadata": {
    "collapsed": false
   },
   "id": "b1ec9afc65c69132"
  },
  {
   "cell_type": "code",
   "outputs": [],
   "source": [
    "import pandas as pd"
   ],
   "metadata": {
    "collapsed": false,
    "ExecuteTime": {
     "end_time": "2024-01-19T12:44:28.386822300Z",
     "start_time": "2024-01-19T12:44:28.262264400Z"
    }
   },
   "id": "1035fa478ef8fcbd",
   "execution_count": 52
  },
  {
   "cell_type": "code",
   "outputs": [
    {
     "ename": "TypeError",
     "evalue": "'set' object is not callable",
     "output_type": "error",
     "traceback": [
      "\u001B[1;31m---------------------------------------------------------------------------\u001B[0m",
      "\u001B[1;31mTypeError\u001B[0m                                 Traceback (most recent call last)",
      "Cell \u001B[1;32mIn[53], line 4\u001B[0m\n\u001B[0;32m      1\u001B[0m first_date_range \u001B[38;5;241m=\u001B[39m pd\u001B[38;5;241m.\u001B[39mdate_range(\u001B[38;5;124m'\u001B[39m\u001B[38;5;124m01/01/1992\u001B[39m\u001B[38;5;124m'\u001B[39m,\u001B[38;5;124m'\u001B[39m\u001B[38;5;124m01/01/1999\u001B[39m\u001B[38;5;124m'\u001B[39m, freq \u001B[38;5;241m=\u001B[39m \u001B[38;5;124m'\u001B[39m\u001B[38;5;124mY\u001B[39m\u001B[38;5;124m'\u001B[39m)\u001B[38;5;241m.\u001B[39mastype(\u001B[38;5;28mstr\u001B[39m)\u001B[38;5;241m.\u001B[39mto_list()\n\u001B[0;32m      2\u001B[0m second_date_range \u001B[38;5;241m=\u001B[39m pd\u001B[38;5;241m.\u001B[39mdate_range(\u001B[38;5;124m'\u001B[39m\u001B[38;5;124m01/01/1988\u001B[39m\u001B[38;5;124m'\u001B[39m,\u001B[38;5;124m'\u001B[39m\u001B[38;5;124m01/01/1995\u001B[39m\u001B[38;5;124m'\u001B[39m, freq \u001B[38;5;241m=\u001B[39m \u001B[38;5;124m'\u001B[39m\u001B[38;5;124mY\u001B[39m\u001B[38;5;124m'\u001B[39m)\u001B[38;5;241m.\u001B[39mastype(\u001B[38;5;28mstr\u001B[39m)\u001B[38;5;241m.\u001B[39mto_list()\n\u001B[1;32m----> 4\u001B[0m first_date_range \u001B[38;5;241m=\u001B[39m \u001B[38;5;28;43mset\u001B[39;49m\u001B[43m(\u001B[49m\u001B[43mfirst_date_range\u001B[49m\u001B[43m)\u001B[49m\n\u001B[0;32m      5\u001B[0m second_date_range \u001B[38;5;241m=\u001B[39m \u001B[38;5;28mset\u001B[39m(second_date_range)\n\u001B[0;32m      7\u001B[0m \u001B[38;5;66;03m# retrouver les dates communes au 2 tableaux\u001B[39;00m\n",
      "\u001B[1;31mTypeError\u001B[0m: 'set' object is not callable"
     ]
    }
   ],
   "source": [
    "first_date_range = pd.date_range('01/01/1992','01/01/1999', freq = 'Y').astype(str).to_list()\n",
    "second_date_range = pd.date_range('01/01/1988','01/01/1995', freq = 'Y').astype(str).to_list()\n",
    "\n",
    "first_date_range = set(first_date_range)\n",
    "second_date_range = set(second_date_range)\n",
    "\n",
    "# retrouver les dates communes au 2 tableaux\n",
    "\n",
    "inner_date = first_date_range & second_date_range\n",
    "# autre méthode = first_date_range.intersection(second_date_range)\n",
    "print(inner_date)\n",
    "\n",
    "# retrouver les dates différentes des 2 tableaux\n",
    "\n",
    "outer_date = (first_date_range - second_date_range) | (second_date_range - first_date_range)\n",
    "# autre méthode = first_date_range.symmetric_difference(second_date_range)\n",
    "\n",
    "print(outer_date)\n"
   ],
   "metadata": {
    "collapsed": false,
    "ExecuteTime": {
     "end_time": "2024-01-19T12:44:28.492566Z",
     "start_time": "2024-01-19T12:44:28.366827300Z"
    }
   },
   "id": "147186a27f7e4d9f",
   "execution_count": 53
  },
  {
   "cell_type": "markdown",
   "source": [
    "Les dictionaires \n",
    "\n",
    "tableau composé de clé et de valeurs\n",
    "\n",
    "on peux utiliser la métholde .items() pour récupérer une clé et une valeur\n"
   ],
   "metadata": {
    "collapsed": false
   },
   "id": "960040c23b7af8bc"
  },
  {
   "cell_type": "code",
   "outputs": [],
   "source": [
    "translations = {'one': 'un', 'two': 'deux', 'three': 'trois', 'four': 'quatre'}\n",
    "\n",
    "for english, french in translations.items():\n",
    " print(f\"La traduction de '{english} 'est '{french}'\")"
   ],
   "metadata": {
    "collapsed": false,
    "ExecuteTime": {
     "start_time": "2024-01-19T12:44:28.466561Z"
    }
   },
   "id": "188fe45281ff5a44",
   "execution_count": null
  },
  {
   "cell_type": "markdown",
   "source": [
    "On peux aussi utiliser les méthode .keyx() ou .values() pour cibler ce qu'on souhaite récupérer"
   ],
   "metadata": {
    "collapsed": false
   },
   "id": "2231bea8801d15b4"
  },
  {
   "cell_type": "code",
   "outputs": [
    {
     "data": {
      "text/plain": "{('four', 'QUATRE'), ('one', 'UN'), ('three', 'TROIS'), ('two', 'DEUX')}"
     },
     "execution_count": 54,
     "metadata": {},
     "output_type": "execute_result"
    }
   ],
   "source": [
    "{ (key, value.upper()) for (key, value) in translations.items()}"
   ],
   "metadata": {
    "collapsed": false,
    "ExecuteTime": {
     "end_time": "2024-01-19T12:44:28.664877500Z",
     "start_time": "2024-01-19T12:44:28.498558700Z"
    }
   },
   "id": "bb0429c1d2d3a597",
   "execution_count": 54
  },
  {
   "cell_type": "code",
   "outputs": [],
   "source": [],
   "metadata": {
    "collapsed": false,
    "ExecuteTime": {
     "end_time": "2024-01-19T12:44:28.691897200Z",
     "start_time": "2024-01-19T12:44:28.624336900Z"
    }
   },
   "id": "dfbed03cf2e7aa49",
   "execution_count": 54
  },
  {
   "cell_type": "markdown",
   "source": [
    "Pour le créer, on peux utiliser la fonction dict()"
   ],
   "metadata": {
    "collapsed": false
   },
   "id": "35379dfc603587d9"
  },
  {
   "cell_type": "code",
   "outputs": [
    {
     "ename": "TypeError",
     "evalue": "'dict' object is not callable",
     "output_type": "error",
     "traceback": [
      "\u001B[1;31m---------------------------------------------------------------------------\u001B[0m",
      "\u001B[1;31mTypeError\u001B[0m                                 Traceback (most recent call last)",
      "Cell \u001B[1;32mIn[55], line 1\u001B[0m\n\u001B[1;32m----> 1\u001B[0m \u001B[38;5;28;43mdict\u001B[39;49m\u001B[43m(\u001B[49m\u001B[43m(\u001B[49m\u001B[43m[\u001B[49m\u001B[38;5;124;43m'\u001B[39;49m\u001B[38;5;124;43mone\u001B[39;49m\u001B[38;5;124;43m'\u001B[39;49m\u001B[43m,\u001B[49m\u001B[38;5;124;43m'\u001B[39;49m\u001B[38;5;124;43mun\u001B[39;49m\u001B[38;5;124;43m'\u001B[39;49m\u001B[43m]\u001B[49m\u001B[43m,\u001B[49m\u001B[43m \u001B[49m\u001B[43m[\u001B[49m\u001B[38;5;124;43m'\u001B[39;49m\u001B[38;5;124;43mtwo\u001B[39;49m\u001B[38;5;124;43m'\u001B[39;49m\u001B[43m,\u001B[49m\u001B[38;5;124;43m'\u001B[39;49m\u001B[38;5;124;43mdeux\u001B[39;49m\u001B[38;5;124;43m'\u001B[39;49m\u001B[43m]\u001B[49m\u001B[43m)\u001B[49m\u001B[43m)\u001B[49m\n",
      "\u001B[1;31mTypeError\u001B[0m: 'dict' object is not callable"
     ]
    }
   ],
   "source": [
    "dict((['one','un'], ['two','deux']))"
   ],
   "metadata": {
    "collapsed": false,
    "ExecuteTime": {
     "end_time": "2024-01-19T12:44:28.827792200Z",
     "start_time": "2024-01-19T12:44:28.695887100Z"
    }
   },
   "id": "358ad2eb3ce53907",
   "execution_count": 55
  },
  {
   "cell_type": "markdown",
   "source": [
    "fonction zip"
   ],
   "metadata": {
    "collapsed": false
   },
   "id": "9acd5f3a32a9f223"
  },
  {
   "cell_type": "code",
   "outputs": [
    {
     "data": {
      "text/plain": "{'All': 'Bikes',\n 'Amaze': 'Inc',\n 'Arena': 'Inc',\n 'Atlanta': 'Inc',\n 'Bike': 'On',\n 'Alpha': 'AG',\n 'BuchungsKreis': '1010',\n 'Trek': 'AG',\n 'Tona': 'AG',\n 'Meine': 'Bicycle',\n 'Avante': 'Bikes',\n 'Carefree': 'Cycles',\n 'G&M': 'Bicycle',\n 'Keep': 'Cycling',\n 'iCare': 'Australia',\n 'CC': 'SportWorld',\n 'DigiPay': 'DigiPay',\n 'TechCycle': 'TechCycle',\n 'eBike': '100',\n 'Cycle': 'World',\n 'High': 'Inc',\n 'Tires': 'Fire',\n 'MX': 'Bike',\n 'FitnessWorld': 'FitnessWorld',\n 'Homerun': 'Inc.',\n 'Antonio': 'Bandolera',\n 'Khan': 'Cycles',\n 'Palm': 'World',\n 'A': 'Fitness',\n 'Hudson': 'SportsTec',\n 'Ebike': '36',\n 'Wichita': 'Sport',\n 'Move': 'Bike',\n 'YourCycleShop': 'YourCycleShop',\n 'Unolab': 'Manufacturing',\n 'E': '201',\n 'The': 'Factor',\n 'Eiffel': 'Bikes'}"
     },
     "execution_count": 42,
     "metadata": {},
     "output_type": "execute_result"
    }
   ],
   "source": [
    "dict(zip(new_company_names_first, new_company_names_last))\n"
   ],
   "metadata": {
    "collapsed": false,
    "ExecuteTime": {
     "end_time": "2024-01-19T13:33:59.565796700Z",
     "start_time": "2024-01-19T13:33:59.494854100Z"
    }
   },
   "id": "e609dded17f4efb0",
   "execution_count": 42
  },
  {
   "cell_type": "code",
   "outputs": [
    {
     "name": "stdout",
     "output_type": "stream",
     "text": [
      "All Bikes\n",
      "Amaze Inc\n",
      "Arena Inc\n",
      "Atlanta Inc\n",
      "Bike Inc\n",
      "Alpha AG\n",
      "BuchungsKreis 1010\n",
      "Trek AG\n",
      "Tona AG\n",
      "Meine Bicycle\n",
      "Avante Bikes\n",
      "Bike On\n",
      "Carefree Cycles\n",
      "G&M Bicycle\n",
      "Keep Cycling\n",
      "iCare Australia\n",
      "CC SportWorld\n",
      "DigiPay DigiPay\n",
      "TechCycle Canberra\n",
      "eBike 100\n",
      "Cycle World\n",
      "High Inc\n",
      "Tires Fire\n",
      "MX Bike\n",
      "FitnessWorld FitnessWorld\n",
      "Homerun Inc.\n",
      "Antonio Bandolera\n",
      "Khan Cycles\n",
      "Palm World\n",
      "A Fitness\n",
      "Hudson SportsTec\n",
      "Ebike 36\n",
      "Wichita Sport\n",
      "Move Bike\n",
      "TechCycle TechCycle\n",
      "YourCycleShop YourCycleShop\n",
      "Unolab Manufacturing\n",
      "E 201\n",
      "The Factor\n",
      "Eiffel Bikes\n"
     ]
    }
   ],
   "source": [
    "for key,value in zip(new_company_names_first, new_company_names_last):\n",
    " print(key,value)"
   ],
   "metadata": {
    "collapsed": false,
    "ExecuteTime": {
     "end_time": "2024-01-19T12:45:13.401808700Z",
     "start_time": "2024-01-19T12:45:13.360181900Z"
    }
   },
   "id": "12026662fd7f3543",
   "execution_count": 2
  },
  {
   "cell_type": "code",
   "outputs": [
    {
     "name": "stdout",
     "output_type": "stream",
     "text": [
      "1\n",
      "2\n"
     ]
    }
   ],
   "source": [
    "one, two = [ 1, 2 ]\n",
    "\n",
    "print(one)\n",
    "print(two)"
   ],
   "metadata": {
    "collapsed": false,
    "ExecuteTime": {
     "end_time": "2024-01-19T12:46:00.719587200Z",
     "start_time": "2024-01-19T12:46:00.658335700Z"
    }
   },
   "id": "61b061a0d0d339be",
   "execution_count": 3
  },
  {
   "cell_type": "code",
   "outputs": [],
   "source": [],
   "metadata": {
    "collapsed": false
   },
   "id": "9e70b1a60270cc45"
  },
  {
   "cell_type": "markdown",
   "source": [
    "Mini-exo 5\n",
    "\n",
    "depuis la liste des entreprises fournis, créer une liste qui contient uniquement le premier mot,\n",
    "une autre qui contient la longueur du premier mot, \n",
    "une liste qui contient des tuple et sa position dans la liste original"
   ],
   "metadata": {
    "collapsed": false
   },
   "id": "e4eef35d2d1a8da"
  },
  {
   "cell_type": "code",
   "outputs": [
    {
     "name": "stdout",
     "output_type": "stream",
     "text": [
      "[(0,), (1,), (2,), (3,), (4,), (5,), (6,), (7,), (8,), (9,), (10, 4), (11,), (12,), (13,), (14,), (15,), (16,), (17,), (18,), (19,), (20,), (21,), (22,), (23,), (24,), (25,), (26,), (27,), (28,), (29,), (30,), (31,), (32, 17), (33,), (34,), (35,), (36,), (37,)]\n",
      "\n",
      "\n",
      "{'All': (0,), 'Amaze': (1,), 'Arena': (2,), 'Atlanta': (3,), 'Alpha': (4,), 'BuchungsKreis': (5,), 'Trek': (6,), 'Tona': (7,), 'Meine': (8,), 'Avante': (9,), 'Bike': (10, 4), 'Carefree': (11,), 'G&M': (12,), 'Keep': (13,), 'iCare': (14,), 'CC': (15,), 'DigiPay': (16,), 'eBike': (17,), 'Cycle': (18,), 'High': (19,), 'Tires': (20,), 'MX': (21,), 'FitnessWorld': (22,), 'Homerun': (23,), 'Antonio': (24,), 'Khan': (25,), 'Palm': (26,), 'A': (27,), 'Hudson': (28,), 'Ebike': (29,), 'Wichita': (30,), 'Move': (31,), 'TechCycle': (32, 17), 'YourCycleShop': (33,), 'Unolab': (34,), 'E': (35,), 'The': (36,), 'Eiffel': (37,)}\n"
     ]
    }
   ],
   "source": [
    "company_names = ['All For Bikes',\n",
    " 'Amaze Bikes Inc',\n",
    " 'Arena Sports Inc',\n",
    " 'Atlanta Corp Inc',\n",
    " 'Bike World Inc',\n",
    " 'Alpha AG',\n",
    " 'BuchungsKreis 1010',\n",
    " 'Trek Cycle AG',\n",
    " 'Tona Bikes AG',\n",
    " 'Meine Bicycle',\n",
    " 'Avante Grande Bikes',\n",
    " 'Bike On',\n",
    " 'Carefree Cycles',\n",
    " 'G&M Bicycle',\n",
    " 'Keep Cycling',\n",
    " 'iCare Australia',\n",
    " 'CC SportWorld',\n",
    " 'DigiPay',\n",
    " 'TechCycle Canberra',\n",
    " 'eBike 100',\n",
    " 'Cycle World',\n",
    " 'High Tech Sports Inc',\n",
    " 'Tires On Fire',\n",
    " 'MX Bike',\n",
    " 'FitnessWorld',\n",
    " 'Homerun Millwork Inc.',\n",
    " 'Antonio Bandolera',\n",
    " 'Khan Cycles',\n",
    " 'Palm Beach Bike World',\n",
    " 'A to Z Fitness',\n",
    " 'Hudson SportsTec',\n",
    " 'Ebike 36',\n",
    " 'Wichita Sport',\n",
    " 'Move by Bike',\n",
    " 'TechCycle',\n",
    " 'YourCycleShop',\n",
    " 'Unolab Manufacturing',\n",
    " 'E bike 201',\n",
    " 'The Cycle Factor',\n",
    " 'Eiffel Bikes']\n",
    "\n",
    "list_first_word = []\n",
    "list_len_first_word = []\n",
    "list_position = []\n",
    "tmp_position = {}\n",
    "a = 0\n",
    "\n",
    "\n",
    "list_first_word = [i.split()[0] for i in company_names]\n",
    "[list_len_first_word.append(len(i)) for i in company_names]\n",
    "\n",
    "\n",
    "# verify duplicata, and save their index on dictionary tmp_position.\n",
    "# then, pop duplicata, and reaffect index to next item\n",
    "for i in list_first_word :\n",
    " if list_first_word.count(i) > 1: \n",
    "  tmp_position[i] = a\n",
    "  list_first_word.pop(a)\n",
    " a += 1\n",
    " \n",
    "\n",
    "# build list_position with actual indexes, and check tmp_position to retrieve their ex-index\n",
    "for i in range(len(list_first_word)):\n",
    " flag = False\n",
    " for key, value in tmp_position.items():\n",
    "  if list_first_word[i] == key:\n",
    "    flag = True\n",
    "    if i != value :\n",
    "     list_position.append((i, value))\n",
    "   \n",
    " if flag == False:\n",
    "  list_position.append(tuple([i]))\n",
    "\n",
    "print(list_position)\n",
    "print('\\n')\n",
    "print(dict(zip(list_first_word,list_position)))"
   ],
   "metadata": {
    "collapsed": false,
    "ExecuteTime": {
     "end_time": "2024-01-19T14:23:40.659200800Z",
     "start_time": "2024-01-19T14:23:40.608095500Z"
    }
   },
   "id": "5fd9fe21ea69a352",
   "execution_count": 26
  },
  {
   "cell_type": "code",
   "outputs": [],
   "source": [],
   "metadata": {
    "collapsed": false
   },
   "id": "b609af8ab6fc51f2"
  },
  {
   "cell_type": "markdown",
   "source": [
    "Les fonctions\n",
    "\n",
    "permet de créer un morceau de code réutilisable.\n",
    "en général un action\n",
    "si la fonction doit renvouer une variable, on utilise \"return\""
   ],
   "metadata": {
    "collapsed": false
   },
   "id": "41b50765fdd1153"
  },
  {
   "cell_type": "code",
   "outputs": [],
   "source": [
    "def function_name():\n",
    " return"
   ],
   "metadata": {
    "collapsed": false
   },
   "id": "ddaeeaecb9ef1a9b"
  },
  {
   "cell_type": "markdown",
   "source": [
    "\n",
    "Une fonction peux avoir des arguments; ces arguments ( parametre ) permette de passer des variable du code dans la boite qu'est la fonction\n",
    "\n",
    "PEP8 = ecrire le nom du parametre=value, sans espace, afin de rendre le code plus lisible\n"
   ],
   "metadata": {
    "collapsed": false
   },
   "id": "ddda3e1b9f4d7d95"
  },
  {
   "cell_type": "code",
   "outputs": [
    {
     "data": {
      "text/plain": "'3000 g, 5000 g'"
     },
     "execution_count": 27,
     "metadata": {},
     "output_type": "execute_result"
    }
   ],
   "source": [
    "def magimix(person):\n",
    " sugar = 60 * person\n",
    " salt = 100 * person\n",
    " return f\"{sugar} g, {salt} g\"\n",
    "\n",
    "magimix(person=50)"
   ],
   "metadata": {
    "collapsed": false,
    "ExecuteTime": {
     "end_time": "2024-01-19T15:01:23.169653600Z",
     "start_time": "2024-01-19T15:01:23.062651500Z"
    }
   },
   "id": "cf0475b9a9ad79d3",
   "execution_count": 27
  },
  {
   "cell_type": "markdown",
   "source": [
    "Une fonction doit avoir une doc, pour être compréhensible par le prochain dev qui passe sur le code"
   ],
   "metadata": {
    "collapsed": false
   },
   "id": "7ef91e5249e0d334"
  },
  {
   "cell_type": "code",
   "outputs": [],
   "source": [
    "def magimix(person, unit=\"g\"):\n",
    " \"\"\"\n",
    " La fonction calcule les ingrédient necessaire par rapport au nombre de personne présente\n",
    " :param person: int \n",
    " :param unit: str / optionnel\n",
    " \n",
    " :return: str la quantité necessaire\n",
    " \"\"\"\n",
    " sugar = 60 * person\n",
    " salt = 100 * person\n",
    " return f\"{sugar} {unit}, {salt} {unit}\"\n",
    "\n",
    "magimix(person=50)"
   ],
   "metadata": {
    "collapsed": false
   },
   "id": "7b67ce63cb8e398"
  },
  {
   "cell_type": "markdown",
   "source": [
    "une fonction peux avoir plusieur return.\n",
    "ou plutot, avec un bloc conditionnel if, return peux prendre des valeurs différentes\n",
    "\n",
    "\n",
    "on peux définir une variable de fonction comme faisant part du code."
   ],
   "metadata": {
    "collapsed": false
   },
   "id": "632811c447653b05"
  },
  {
   "cell_type": "code",
   "outputs": [],
   "source": [
    "def magimix(person, unit=\"g\"):\n",
    " \"\"\"\n",
    " La fonction calcule les ingrédient necessaire par rapport au nombre de personne présente\n",
    " :param person: int \n",
    " :param unit: str / optionnel\n",
    " \n",
    " :return: str la quantité necessaire\n",
    " \"\"\"\n",
    " global salt\n",
    " \n",
    " sugar = 60 * person\n",
    " salt = 100 * person\n",
    " return f\"{sugar} {unit}, {salt} {unit}\"\n",
    "\n",
    "magimix(person=50)"
   ],
   "metadata": {
    "collapsed": false
   },
   "id": "a2a20df2113061e0"
  },
  {
   "cell_type": "markdown",
   "source": [
    "Mini-exo 6\n",
    "\n",
    "\n",
    "definir les fonction de moyenne et de variance"
   ],
   "metadata": {
    "collapsed": false
   },
   "id": "75571ba6618e00f7"
  },
  {
   "cell_type": "code",
   "outputs": [
    {
     "name": "stdout",
     "output_type": "stream",
     "text": [
      "9.5\n",
      "22.91666666666667\n"
     ]
    }
   ],
   "source": [
    "def average(arr):\n",
    " return sum(arr)/len(arr)\n",
    " \n",
    "def variancy(arr):\n",
    " return((sum(x**2 for x in arr) / len(arr)) - (sum(arr)/len(arr))**2)\n",
    " \n",
    " \n",
    " \n",
    "list = [7,5,12,16,14,3]\n",
    "\n",
    "print(average(list))\n",
    "print(variancy(list))"
   ],
   "metadata": {
    "collapsed": false,
    "ExecuteTime": {
     "end_time": "2024-01-19T15:29:19.502731900Z",
     "start_time": "2024-01-19T15:29:19.412729300Z"
    }
   },
   "id": "2fb79996563b8a0e",
   "execution_count": 32
  },
  {
   "cell_type": "code",
   "outputs": [],
   "source": [],
   "metadata": {
    "collapsed": false,
    "ExecuteTime": {
     "end_time": "2024-01-19T15:28:41.122527400Z",
     "start_time": "2024-01-19T15:28:40.210569400Z"
    }
   },
   "id": "5709e037c3d14661",
   "execution_count": 30
  },
  {
   "cell_type": "code",
   "outputs": [],
   "source": [],
   "metadata": {
    "collapsed": false
   },
   "id": "437700628ecbeaee"
  }
 ],
 "metadata": {
  "kernelspec": {
   "display_name": "Python 3",
   "language": "python",
   "name": "python3"
  },
  "language_info": {
   "codemirror_mode": {
    "name": "ipython",
    "version": 2
   },
   "file_extension": ".py",
   "mimetype": "text/x-python",
   "name": "python",
   "nbconvert_exporter": "python",
   "pygments_lexer": "ipython2",
   "version": "2.7.6"
  }
 },
 "nbformat": 4,
 "nbformat_minor": 5
}

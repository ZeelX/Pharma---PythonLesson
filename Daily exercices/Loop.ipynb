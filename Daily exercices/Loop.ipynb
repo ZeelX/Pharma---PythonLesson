{
 "cells": [
  {
   "cell_type": "markdown",
   "metadata": {},
   "source": [
    "# Loop"
   ]
  },
  {
   "cell_type": "markdown",
   "metadata": {},
   "source": [
    "By using a while loop, create a list of numbers from 1 to 31 included."
   ]
  },
  {
   "cell_type": "code",
   "execution_count": 2,
   "metadata": {
    "ExecuteTime": {
     "end_time": "2024-01-25T08:11:58.686155500Z",
     "start_time": "2024-01-25T08:11:58.606252100Z"
    }
   },
   "outputs": [
    {
     "name": "stdout",
     "output_type": "stream",
     "text": [
      "[1, 2, 3, 4, 5, 6, 7, 8, 9, 10, 11, 12, 13, 14, 15, 16, 17, 18, 19, 20, 21, 22, 23, 24, 25, 26, 27, 28, 29, 30, 31]\n"
     ]
    }
   ],
   "source": [
    "i = 0\n",
    "number_list = []\n",
    "while i <= 30:\n",
    "    number_list.append(i+1)\n",
    "    i += 1\n",
    "    \n",
    "print(number_list)"
   ]
  },
  {
   "cell_type": "markdown",
   "metadata": {},
   "source": [
    "By using a for loop, create a list of tuple, containing a number and a month.\n",
    "All months can have 31 days.\n",
    "\n",
    "Expected result : [(1, 'January'), (2, 'January'), (31, 'Décembre')]"
   ]
  },
  {
   "cell_type": "code",
   "execution_count": 9,
   "metadata": {
    "ExecuteTime": {
     "end_time": "2024-01-25T08:37:33.931594200Z",
     "start_time": "2024-01-25T08:37:33.908796300Z"
    }
   },
   "outputs": [
    {
     "name": "stdout",
     "output_type": "stream",
     "text": [
      "[(1, 'January'), (1, 'February'), (1, 'March'), (1, 'April'), (1, 'May'), (1, 'June'), (1, 'July'), (1, 'August'), (1, 'September'), (1, 'October'), (1, 'November'), (1, 'December'), (2, 'January'), (2, 'February'), (2, 'March'), (2, 'April'), (2, 'May'), (2, 'June'), (2, 'July'), (2, 'August'), (2, 'September'), (2, 'October'), (2, 'November'), (2, 'December'), (3, 'January'), (3, 'February'), (3, 'March'), (3, 'April'), (3, 'May'), (3, 'June'), (3, 'July'), (3, 'August'), (3, 'September'), (3, 'October'), (3, 'November'), (3, 'December'), (4, 'January'), (4, 'February'), (4, 'March'), (4, 'April'), (4, 'May'), (4, 'June'), (4, 'July'), (4, 'August'), (4, 'September'), (4, 'October'), (4, 'November'), (4, 'December'), (5, 'January'), (5, 'February'), (5, 'March'), (5, 'April'), (5, 'May'), (5, 'June'), (5, 'July'), (5, 'August'), (5, 'September'), (5, 'October'), (5, 'November'), (5, 'December'), (6, 'January'), (6, 'February'), (6, 'March'), (6, 'April'), (6, 'May'), (6, 'June'), (6, 'July'), (6, 'August'), (6, 'September'), (6, 'October'), (6, 'November'), (6, 'December'), (7, 'January'), (7, 'February'), (7, 'March'), (7, 'April'), (7, 'May'), (7, 'June'), (7, 'July'), (7, 'August'), (7, 'September'), (7, 'October'), (7, 'November'), (7, 'December'), (8, 'January'), (8, 'February'), (8, 'March'), (8, 'April'), (8, 'May'), (8, 'June'), (8, 'July'), (8, 'August'), (8, 'September'), (8, 'October'), (8, 'November'), (8, 'December'), (9, 'January'), (9, 'February'), (9, 'March'), (9, 'April'), (9, 'May'), (9, 'June'), (9, 'July'), (9, 'August'), (9, 'September'), (9, 'October'), (9, 'November'), (9, 'December'), (10, 'January'), (10, 'February'), (10, 'March'), (10, 'April'), (10, 'May'), (10, 'June'), (10, 'July'), (10, 'August'), (10, 'September'), (10, 'October'), (10, 'November'), (10, 'December'), (11, 'January'), (11, 'February'), (11, 'March'), (11, 'April'), (11, 'May'), (11, 'June'), (11, 'July'), (11, 'August'), (11, 'September'), (11, 'October'), (11, 'November'), (11, 'December'), (12, 'January'), (12, 'February'), (12, 'March'), (12, 'April'), (12, 'May'), (12, 'June'), (12, 'July'), (12, 'August'), (12, 'September'), (12, 'October'), (12, 'November'), (12, 'December'), (13, 'January'), (13, 'February'), (13, 'March'), (13, 'April'), (13, 'May'), (13, 'June'), (13, 'July'), (13, 'August'), (13, 'September'), (13, 'October'), (13, 'November'), (13, 'December'), (14, 'January'), (14, 'February'), (14, 'March'), (14, 'April'), (14, 'May'), (14, 'June'), (14, 'July'), (14, 'August'), (14, 'September'), (14, 'October'), (14, 'November'), (14, 'December'), (15, 'January'), (15, 'February'), (15, 'March'), (15, 'April'), (15, 'May'), (15, 'June'), (15, 'July'), (15, 'August'), (15, 'September'), (15, 'October'), (15, 'November'), (15, 'December'), (16, 'January'), (16, 'February'), (16, 'March'), (16, 'April'), (16, 'May'), (16, 'June'), (16, 'July'), (16, 'August'), (16, 'September'), (16, 'October'), (16, 'November'), (16, 'December'), (17, 'January'), (17, 'February'), (17, 'March'), (17, 'April'), (17, 'May'), (17, 'June'), (17, 'July'), (17, 'August'), (17, 'September'), (17, 'October'), (17, 'November'), (17, 'December'), (18, 'January'), (18, 'February'), (18, 'March'), (18, 'April'), (18, 'May'), (18, 'June'), (18, 'July'), (18, 'August'), (18, 'September'), (18, 'October'), (18, 'November'), (18, 'December'), (19, 'January'), (19, 'February'), (19, 'March'), (19, 'April'), (19, 'May'), (19, 'June'), (19, 'July'), (19, 'August'), (19, 'September'), (19, 'October'), (19, 'November'), (19, 'December'), (20, 'January'), (20, 'February'), (20, 'March'), (20, 'April'), (20, 'May'), (20, 'June'), (20, 'July'), (20, 'August'), (20, 'September'), (20, 'October'), (20, 'November'), (20, 'December'), (21, 'January'), (21, 'February'), (21, 'March'), (21, 'April'), (21, 'May'), (21, 'June'), (21, 'July'), (21, 'August'), (21, 'September'), (21, 'October'), (21, 'November'), (21, 'December'), (22, 'January'), (22, 'February'), (22, 'March'), (22, 'April'), (22, 'May'), (22, 'June'), (22, 'July'), (22, 'August'), (22, 'September'), (22, 'October'), (22, 'November'), (22, 'December'), (23, 'January'), (23, 'February'), (23, 'March'), (23, 'April'), (23, 'May'), (23, 'June'), (23, 'July'), (23, 'August'), (23, 'September'), (23, 'October'), (23, 'November'), (23, 'December'), (24, 'January'), (24, 'February'), (24, 'March'), (24, 'April'), (24, 'May'), (24, 'June'), (24, 'July'), (24, 'August'), (24, 'September'), (24, 'October'), (24, 'November'), (24, 'December'), (25, 'January'), (25, 'February'), (25, 'March'), (25, 'April'), (25, 'May'), (25, 'June'), (25, 'July'), (25, 'August'), (25, 'September'), (25, 'October'), (25, 'November'), (25, 'December'), (26, 'January'), (26, 'February'), (26, 'March'), (26, 'April'), (26, 'May'), (26, 'June'), (26, 'July'), (26, 'August'), (26, 'September'), (26, 'October'), (26, 'November'), (26, 'December'), (27, 'January'), (27, 'February'), (27, 'March'), (27, 'April'), (27, 'May'), (27, 'June'), (27, 'July'), (27, 'August'), (27, 'September'), (27, 'October'), (27, 'November'), (27, 'December'), (28, 'January'), (28, 'February'), (28, 'March'), (28, 'April'), (28, 'May'), (28, 'June'), (28, 'July'), (28, 'August'), (28, 'September'), (28, 'October'), (28, 'November'), (28, 'December'), (29, 'January'), (29, 'February'), (29, 'March'), (29, 'April'), (29, 'May'), (29, 'June'), (29, 'July'), (29, 'August'), (29, 'September'), (29, 'October'), (29, 'November'), (29, 'December'), (30, 'January'), (30, 'February'), (30, 'March'), (30, 'April'), (30, 'May'), (30, 'June'), (30, 'July'), (30, 'August'), (30, 'September'), (30, 'October'), (30, 'November'), (30, 'December'), (31, 'January'), (31, 'February'), (31, 'March'), (31, 'April'), (31, 'May'), (31, 'June'), (31, 'July'), (31, 'August'), (31, 'September'), (31, 'October'), (31, 'November'), (31, 'December')]\n"
     ]
    }
   ],
   "source": [
    "from itertools import product\n",
    "\n",
    "months = ['January', 'February', 'March', 'April', 'May', 'June', 'July', 'August', 'September', 'October', 'November', 'December']\n",
    "a = 0\n",
    "final_list = []\n",
    "\n",
    "for item in months:\n",
    "    for number in number_list:\n",
    "        final_list.append((number, item))\n",
    "# print(final_list)    \n",
    "\n",
    "tuple_list = list(product(range(1, 32), months))\n",
    "print(tuple_list)"
   ]
  },
  {
   "cell_type": "code",
   "outputs": [],
   "source": [],
   "metadata": {
    "collapsed": false
   }
  }
 ],
 "metadata": {
  "kernelspec": {
   "display_name": "Python 3.10.5 64-bit",
   "language": "python",
   "name": "python3"
  },
  "language_info": {
   "codemirror_mode": {
    "name": "ipython",
    "version": 3
   },
   "file_extension": ".py",
   "mimetype": "text/x-python",
   "name": "python",
   "nbconvert_exporter": "python",
   "pygments_lexer": "ipython3",
   "version": "3.10.5"
  },
  "vscode": {
   "interpreter": {
    "hash": "978cbc386ed05effeb3d4ddae2ec8e964a1df925c0fd2ef4770302988156a95d"
   }
  }
 },
 "nbformat": 4,
 "nbformat_minor": 4
}

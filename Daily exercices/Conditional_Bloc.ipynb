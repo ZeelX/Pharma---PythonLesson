{
 "cells": [
  {
   "cell_type": "markdown",
   "metadata": {},
   "source": [
    "# Conditional Bloc"
   ]
  },
  {
   "cell_type": "markdown",
   "metadata": {},
   "source": [
    "Create a list of tuple which contains numbers from 1 to 31 and the string 'January'.\n",
    "\n",
    "Expected result : [(1, 'January'), (2, 'January').. (31, 'January')]"
   ]
  },
  {
   "cell_type": "code",
   "execution_count": 24,
   "metadata": {
    "ExecuteTime": {
     "end_time": "2024-01-24T08:21:46.078113700Z",
     "start_time": "2024-01-24T08:21:46.054118900Z"
    }
   },
   "outputs": [
    {
     "name": "stdout",
     "output_type": "stream",
     "text": [
      "[(1, 'January'), (2, 'January'), (3, 'January'), (4, 'January'), (5, 'January'), (6, 'January'), (7, 'January'), (8, 'January'), (9, 'January'), (10, 'January'), (11, 'January'), (12, 'January'), (13, 'January'), (14, 'January'), (15, 'January'), (16, 'January'), (17, 'January'), (18, 'January'), (19, 'January'), (20, 'January'), (21, 'January'), (22, 'January'), (23, 'January'), (24, 'January'), (25, 'January'), (26, 'January'), (27, 'January'), (28, 'January'), (29, 'January'), (30, 'January'), (31, 'January')]\n"
     ]
    }
   ],
   "source": [
    "ja_list = [(i+1, 'January') for i in range(31)]\n",
    "print(ja_list)"
   ]
  },
  {
   "cell_type": "markdown",
   "metadata": {},
   "source": [
    "Create a list of tuple which contains numbers from 1 to 31 and the string 'February'.\n",
    "\n",
    "Expected result : [(1, 'February'), (2, 'February').. (31, 'February')]"
   ]
  },
  {
   "cell_type": "code",
   "execution_count": 25,
   "metadata": {
    "ExecuteTime": {
     "end_time": "2024-01-24T08:21:53.899316900Z",
     "start_time": "2024-01-24T08:21:53.878324200Z"
    }
   },
   "outputs": [
    {
     "name": "stdout",
     "output_type": "stream",
     "text": [
      "[(1, 'February'), (2, 'February'), (3, 'February'), (4, 'February'), (5, 'February'), (6, 'February'), (7, 'February'), (8, 'February'), (9, 'February'), (10, 'February'), (11, 'February'), (12, 'February'), (13, 'February'), (14, 'February'), (15, 'February'), (16, 'February'), (17, 'February'), (18, 'February'), (19, 'February'), (20, 'February'), (21, 'February'), (22, 'February'), (23, 'February'), (24, 'February'), (25, 'February'), (26, 'February'), (27, 'February'), (28, 'February'), (29, 'February'), (30, 'February'), (31, 'February')]\n"
     ]
    }
   ],
   "source": [
    "fe_list = [(i+1, 'February') for i in range(31)]\n",
    "print(fe_list)"
   ]
  },
  {
   "cell_type": "markdown",
   "metadata": {},
   "source": [
    "Concatenate the two previous list into one.\n",
    "\n",
    "Expected result : [(1, 'January'), (2, 'January').. (31, 'February')]"
   ]
  },
  {
   "cell_type": "code",
   "execution_count": 26,
   "metadata": {
    "ExecuteTime": {
     "end_time": "2024-01-24T08:21:58.362680400Z",
     "start_time": "2024-01-24T08:21:58.344682400Z"
    }
   },
   "outputs": [
    {
     "name": "stdout",
     "output_type": "stream",
     "text": [
      "[(1, 'January'), (2, 'January'), (3, 'January'), (4, 'January'), (5, 'January'), (6, 'January'), (7, 'January'), (8, 'January'), (9, 'January'), (10, 'January'), (11, 'January'), (12, 'January'), (13, 'January'), (14, 'January'), (15, 'January'), (16, 'January'), (17, 'January'), (18, 'January'), (19, 'January'), (20, 'January'), (21, 'January'), (22, 'January'), (23, 'January'), (24, 'January'), (25, 'January'), (26, 'January'), (27, 'January'), (28, 'January'), (29, 'January'), (30, 'January'), (31, 'January'), (1, 'February'), (2, 'February'), (3, 'February'), (4, 'February'), (5, 'February'), (6, 'February'), (7, 'February'), (8, 'February'), (9, 'February'), (10, 'February'), (11, 'February'), (12, 'February'), (13, 'February'), (14, 'February'), (15, 'February'), (16, 'February'), (17, 'February'), (18, 'February'), (19, 'February'), (20, 'February'), (21, 'February'), (22, 'February'), (23, 'February'), (24, 'February'), (25, 'February'), (26, 'February'), (27, 'February'), (28, 'February'), (29, 'February'), (30, 'February'), (31, 'February')]\n"
     ]
    }
   ],
   "source": [
    "concate_list = ja_list+fe_list\n",
    "print(concate_list)"
   ]
  },
  {
   "cell_type": "markdown",
   "metadata": {},
   "source": [
    "Check if the value (1, 'March') is in the concatenate list.\n",
    "\n",
    "If yes, then print \"The 1 March exist\". Otherwise, print \"The 1 March does not exist\" "
   ]
  },
  {
   "cell_type": "code",
   "execution_count": 14,
   "metadata": {
    "ExecuteTime": {
     "end_time": "2024-01-24T08:17:35.979765300Z",
     "start_time": "2024-01-24T08:17:35.958203800Z"
    }
   },
   "outputs": [
    {
     "name": "stdout",
     "output_type": "stream",
     "text": [
      "The 1 March does not exist\n"
     ]
    }
   ],
   "source": [
    "if (1, 'March') in ja_list:\n",
    "    print(\"The 1 March exist\")\n",
    "else:\n",
    "    print(\"The 1 March does not exist\" )"
   ]
  },
  {
   "cell_type": "markdown",
   "metadata": {},
   "source": [
    "In the concatenated list, print every tuple which are equal or below 28 and contains the string 'February'."
   ]
  },
  {
   "cell_type": "code",
   "execution_count": 30,
   "metadata": {
    "ExecuteTime": {
     "end_time": "2024-01-24T08:25:28.764249500Z",
     "start_time": "2024-01-24T08:25:28.756455100Z"
    }
   },
   "outputs": [
    {
     "name": "stdout",
     "output_type": "stream",
     "text": [
      "(1, 'February')\n",
      "(2, 'February')\n",
      "(3, 'February')\n",
      "(4, 'February')\n",
      "(5, 'February')\n",
      "(6, 'February')\n",
      "(7, 'February')\n",
      "(8, 'February')\n",
      "(9, 'February')\n",
      "(10, 'February')\n",
      "(11, 'February')\n",
      "(12, 'February')\n",
      "(13, 'February')\n",
      "(14, 'February')\n",
      "(15, 'February')\n",
      "(16, 'February')\n",
      "(17, 'February')\n",
      "(18, 'February')\n",
      "(19, 'February')\n",
      "(20, 'February')\n",
      "(21, 'February')\n",
      "(22, 'February')\n",
      "(23, 'February')\n",
      "(24, 'February')\n",
      "(25, 'February')\n",
      "(26, 'February')\n",
      "(27, 'February')\n",
      "(28, 'February')\n"
     ]
    }
   ],
   "source": [
    "\n",
    "for i in range(len(concate_list)):\n",
    "     if concate_list[i][1] == 'February' and concate_list[i][0] < 29:\n",
    "        print(concate_list[i])"
   ]
  },
  {
   "cell_type": "markdown",
   "metadata": {},
   "source": [
    "\n",
    "\n",
    "In the concatenated list, delete every date which are above 28."
   ]
  },
  {
   "cell_type": "code",
   "execution_count": 38,
   "metadata": {
    "ExecuteTime": {
     "end_time": "2024-01-24T08:30:18.796607900Z",
     "start_time": "2024-01-24T08:30:18.775838300Z"
    }
   },
   "outputs": [
    {
     "name": "stdout",
     "output_type": "stream",
     "text": [
      "[(1, 'January'), (2, 'January'), (3, 'January'), (4, 'January'), (5, 'January'), (6, 'January'), (7, 'January'), (8, 'January'), (9, 'January'), (10, 'January'), (11, 'January'), (12, 'January'), (13, 'January'), (14, 'January'), (15, 'January'), (16, 'January'), (17, 'January'), (18, 'January'), (19, 'January'), (20, 'January'), (21, 'January'), (22, 'January'), (23, 'January'), (24, 'January'), (25, 'January'), (26, 'January'), (27, 'January'), (28, 'January'), (1, 'February'), (2, 'February'), (3, 'February'), (4, 'February'), (5, 'February'), (6, 'February'), (7, 'February'), (8, 'February'), (9, 'February'), (10, 'February'), (11, 'February'), (12, 'February'), (13, 'February'), (14, 'February'), (15, 'February'), (16, 'February'), (17, 'February'), (18, 'February'), (19, 'February'), (20, 'February'), (21, 'February'), (22, 'February'), (23, 'February'), (24, 'February'), (25, 'February'), (26, 'February'), (27, 'February'), (28, 'February')]\n"
     ]
    }
   ],
   "source": [
    "a = 0\n",
    "for i in concate_list:\n",
    "    if concate_list[a][0] > 28:\n",
    "        concate_list.pop(a)\n",
    "    a += 1\n",
    "print(concate_list)    "
   ]
  },
  {
   "cell_type": "code",
   "outputs": [],
   "source": [],
   "metadata": {
    "collapsed": false,
    "ExecuteTime": {
     "end_time": "2024-01-24T08:29:36.251245300Z",
     "start_time": "2024-01-24T08:29:36.243249800Z"
    }
   },
   "execution_count": 35
  },
  {
   "cell_type": "code",
   "outputs": [],
   "source": [],
   "metadata": {
    "collapsed": false
   }
  }
 ],
 "metadata": {
  "kernelspec": {
   "display_name": "Python 3.8.10 64-bit (windows store)",
   "language": "python",
   "name": "python3"
  },
  "language_info": {
   "codemirror_mode": {
    "name": "ipython",
    "version": 3
   },
   "file_extension": ".py",
   "mimetype": "text/x-python",
   "name": "python",
   "nbconvert_exporter": "python",
   "pygments_lexer": "ipython3",
   "version": "3.8.10"
  },
  "vscode": {
   "interpreter": {
    "hash": "825c94aeb3011909476e5128882419f0b73939d2857b9ad1548e06fb43618312"
   }
  }
 },
 "nbformat": 4,
 "nbformat_minor": 4
}

{
 "cells": [
  {
   "cell_type": "markdown",
   "metadata": {},
   "source": [
    "# Variable"
   ]
  },
  {
   "cell_type": "markdown",
   "metadata": {},
   "source": [
    "Create a variable named day, which contained the numeric value 1."
   ]
  },
  {
   "cell_type": "code",
   "execution_count": 8,
   "metadata": {
    "ExecuteTime": {
     "end_time": "2024-01-22T08:09:59.114324Z",
     "start_time": "2024-01-22T08:09:59.094344200Z"
    }
   },
   "outputs": [],
   "source": [
    "day = 1    "
   ]
  },
  {
   "cell_type": "markdown",
   "metadata": {},
   "source": [
    "Create a variable named month, which contained the string value January."
   ]
  },
  {
   "cell_type": "code",
   "execution_count": 9,
   "metadata": {
    "ExecuteTime": {
     "end_time": "2024-01-22T08:09:59.148845500Z",
     "start_time": "2024-01-22T08:09:59.120304700Z"
    }
   },
   "outputs": [],
   "source": [
    "month = \"January\""
   ]
  },
  {
   "cell_type": "markdown",
   "metadata": {},
   "source": [
    "Create a variable named year, which contained the numeric value 2000."
   ]
  },
  {
   "cell_type": "code",
   "execution_count": 10,
   "metadata": {
    "ExecuteTime": {
     "end_time": "2024-01-22T08:09:59.149848300Z",
     "start_time": "2024-01-22T08:09:59.132301900Z"
    }
   },
   "outputs": [],
   "source": [
    "year = 2000"
   ]
  },
  {
   "cell_type": "markdown",
   "metadata": {},
   "source": [
    "Create a variable named elapsed_day, which contained the numeric value 1/365."
   ]
  },
  {
   "cell_type": "code",
   "execution_count": 11,
   "metadata": {
    "ExecuteTime": {
     "end_time": "2024-01-22T08:09:59.171851900Z",
     "start_time": "2024-01-22T08:09:59.154847400Z"
    }
   },
   "outputs": [],
   "source": [
    "elapsed_day = 1/365"
   ]
  },
  {
   "cell_type": "markdown",
   "metadata": {},
   "source": [
    "Print out the type of the created variables"
   ]
  },
  {
   "cell_type": "code",
   "execution_count": 12,
   "metadata": {
    "ExecuteTime": {
     "end_time": "2024-01-22T08:09:59.196858200Z",
     "start_time": "2024-01-22T08:09:59.167615400Z"
    }
   },
   "outputs": [
    {
     "name": "stdout",
     "output_type": "stream",
     "text": [
      "<class 'int'>\n",
      "<class 'str'>\n",
      "<class 'int'>\n",
      "<class 'float'>\n"
     ]
    }
   ],
   "source": [
    "print(type(day))\n",
    "print(type(month))\n",
    "print(type(year))\n",
    "print(type(elapsed_day))"
   ]
  },
  {
   "cell_type": "markdown",
   "metadata": {},
   "source": [
    "Concatenate the created variable and print out a sentence like : \"1 January 2000. Elapsed days : 0.003 percent\""
   ]
  },
  {
   "cell_type": "code",
   "execution_count": 15,
   "metadata": {
    "ExecuteTime": {
     "end_time": "2024-01-22T08:10:50.396035Z",
     "start_time": "2024-01-22T08:10:50.384317500Z"
    }
   },
   "outputs": [
    {
     "name": "stdout",
     "output_type": "stream",
     "text": [
      "1 January 2000. Elapsed day: 0.003 %\n"
     ]
    }
   ],
   "source": [
    "print(f\"{day} {month} {year}. Elapsed day: {round(elapsed_day, 3)} %\")"
   ]
  }
 ],
 "metadata": {
  "kernelspec": {
   "display_name": "Python 3.8.10 64-bit (windows store)",
   "language": "python",
   "name": "python3"
  },
  "language_info": {
   "name": "python",
   "version": "3.8.10"
  },
  "orig_nbformat": 4,
  "vscode": {
   "interpreter": {
    "hash": "825c94aeb3011909476e5128882419f0b73939d2857b9ad1548e06fb43618312"
   }
  }
 },
 "nbformat": 4,
 "nbformat_minor": 2
}
